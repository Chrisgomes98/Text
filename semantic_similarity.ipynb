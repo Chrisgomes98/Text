{
 "cells": [
  {
   "cell_type": "code",
   "execution_count": 3,
   "metadata": {},
   "outputs": [
    {
     "name": "stdin",
     "output_type": "stream",
     "text": [
      "enter the text1 i really like cats\n",
      "enter the text2 i love cats\n"
     ]
    },
    {
     "name": "stdout",
     "output_type": "stream",
     "text": [
      "{\"time\":0,\"similarity\":0.5673,\"lang\":\"en\",\"langConfidence\":1.0,\"timestamp\":\"2020-01-13T08:51:22.662\"}\n"
     ]
    }
   ],
   "source": [
    "import requests\n",
    "text1=input(\"enter the text1\")\n",
    "text2=input(\"enter the text2\")\n",
    "token=\"9a9a6b742ee442de91fe42ea8aff7542\"\n",
    "text1=text1.replace(\" \",\"%20\")\n",
    "text2=text2.replace(\" \",\"%20\")\n",
    "url=\"https://api.dandelion.eu/datatxt/sim/v1/?text1=\"+text1+\" &text2=\"+text2+\"&token=\"+token\n",
    "response = requests.get(url)\n",
    "print(response.text)\n"
   ]
  },
  {
   "cell_type": "code",
   "execution_count": null,
   "metadata": {},
   "outputs": [],
   "source": []
  }
 ],
 "metadata": {
  "kernelspec": {
   "display_name": "Python 3",
   "language": "python",
   "name": "python3"
  },
  "language_info": {
   "codemirror_mode": {
    "name": "ipython",
    "version": 3
   },
   "file_extension": ".py",
   "mimetype": "text/x-python",
   "name": "python",
   "nbconvert_exporter": "python",
   "pygments_lexer": "ipython3",
   "version": "3.7.3"
  }
 },
 "nbformat": 4,
 "nbformat_minor": 2
}
